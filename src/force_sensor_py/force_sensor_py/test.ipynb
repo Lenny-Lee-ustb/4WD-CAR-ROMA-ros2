{
 "cells": [
  {
   "cell_type": "code",
   "execution_count": 61,
   "metadata": {},
   "outputs": [
    {
     "name": "stdout",
     "output_type": "stream",
     "text": [
      "-127\n",
      "129\n",
      "-0b10000010\n",
      "0b10000001\n",
      "129\n",
      "False\n"
     ]
    }
   ],
   "source": [
    "a = -8\n",
    "b = '10000001'\n",
    "fan = int(b[1:],2)\n",
    "print(fan-(1<<7))\n",
    "c = int(b,2)\n",
    "# c = ~c+1\n",
    "d = int(b,2)\n",
    "x = bin(~d)\n",
    "x1 = bin(d)\n",
    "e = not(d)\n",
    "print(c)\n",
    "print(x)\n",
    "print(x1)\n",
    "print(d)\n",
    "print(e)"
   ]
  },
  {
   "cell_type": "code",
   "execution_count": 109,
   "metadata": {},
   "outputs": [
    {
     "name": "stdout",
     "output_type": "stream",
     "text": [
      "100\n"
     ]
    }
   ],
   "source": [
    "print(pow(10,2))"
   ]
  },
  {
   "cell_type": "code",
   "execution_count": 110,
   "metadata": {},
   "outputs": [
    {
     "name": "stdout",
     "output_type": "stream",
     "text": [
      "<class 'int'>\n",
      "3\n"
     ]
    }
   ],
   "source": [
    "def complement_to_true_value(high, low, state):\n",
    "    data = (high<<16)+low\n",
    "    index = state & 0x0F00\n",
    "    index = index >> 8\n",
    "    if int(data/(0x80000000))==0:\n",
    "        data = float(data)\n",
    "        return data/pow(10,index)\n",
    "    else:\n",
    "        data = data%0x80000000\n",
    "        data = data - 0x80000000\n",
    "        data = float(data)\n",
    "        return data/pow(10,index)\n",
    "\n",
    "a = 0xFFFE\n",
    "b = 0x1DC0\n",
    "c = 0xF3FF\n",
    "true_value = complement_to_true_value(a,b,c)\n",
    "print(true_value)  # 输出 -4"
   ]
  }
 ],
 "metadata": {
  "kernelspec": {
   "display_name": "Python 3",
   "language": "python",
   "name": "python3"
  },
  "language_info": {
   "codemirror_mode": {
    "name": "ipython",
    "version": 3
   },
   "file_extension": ".py",
   "mimetype": "text/x-python",
   "name": "python",
   "nbconvert_exporter": "python",
   "pygments_lexer": "ipython3",
   "version": "3.10.12"
  },
  "orig_nbformat": 4
 },
 "nbformat": 4,
 "nbformat_minor": 2
}
