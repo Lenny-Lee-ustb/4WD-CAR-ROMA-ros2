{
 "cells": [
  {
   "cell_type": "code",
   "execution_count": 61,
   "metadata": {},
   "outputs": [
    {
     "name": "stdout",
     "output_type": "stream",
     "text": [
      "-127\n",
      "129\n",
      "-0b10000010\n",
      "0b10000001\n",
      "129\n",
      "False\n"
     ]
    }
   ],
   "source": [
    "a = -8\n",
    "b = '10000001'\n",
    "fan = int(b[1:],2)\n",
    "print(fan-(1<<7))\n",
    "c = int(b,2)\n",
    "# c = ~c+1\n",
    "d = int(b,2)\n",
    "x = bin(~d)\n",
    "x1 = bin(d)\n",
    "e = not(d)\n",
    "print(c)\n",
    "print(x)\n",
    "print(x1)\n",
    "print(d)\n",
    "print(e)"
   ]
  },
  {
   "cell_type": "code",
   "execution_count": 6,
   "metadata": {},
   "outputs": [
    {
     "name": "stdout",
     "output_type": "stream",
     "text": [
      "1\n"
     ]
    }
   ],
   "source": [
    "print([1,2][0])\n"
   ]
  },
  {
   "cell_type": "code",
   "execution_count": 26,
   "metadata": {},
   "outputs": [
    {
     "name": "stdout",
     "output_type": "stream",
     "text": [
      "0.0\n",
      "4\n"
     ]
    }
   ],
   "source": [
    "listx = [0.,0.,0.,0.]\n",
    "print(listx[1])\n",
    "print(len(listx))"
   ]
  }
 ],
 "metadata": {
  "kernelspec": {
   "display_name": "Python 3",
   "language": "python",
   "name": "python3"
  },
  "language_info": {
   "codemirror_mode": {
    "name": "ipython",
    "version": 3
   },
   "file_extension": ".py",
   "mimetype": "text/x-python",
   "name": "python",
   "nbconvert_exporter": "python",
   "pygments_lexer": "ipython3",
   "version": "3.10.12"
  },
  "orig_nbformat": 4
 },
 "nbformat": 4,
 "nbformat_minor": 2
}
