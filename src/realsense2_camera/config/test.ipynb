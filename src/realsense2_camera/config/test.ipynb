{
 "cells": [
  {
   "cell_type": "code",
   "execution_count": 3,
   "metadata": {},
   "outputs": [
    {
     "name": "stdout",
     "output_type": "stream",
     "text": [
      "type: <class 'dict'>\n",
      "a:  dict_items([('camera_name1', <launch.substitutions.launch_configuration.LaunchConfiguration object at 0x7f7f26a2f640>), ('camera_name2', <launch.substitutions.launch_configuration.LaunchConfiguration object at 0x7f7f26a2e5f0>)])\n"
     ]
    }
   ],
   "source": [
    "from launch.substitutions import LaunchConfiguration\n",
    "\n",
    "local_parameters = [{'name': 'camera_name1', 'default': 'camera1', 'description': 'camera unique name'},\n",
    "                    {'name': 'camera_name2', 'default': 'camera2', 'description': 'camera unique name'},\n",
    "                   ]\n",
    "\n",
    "def set_configurable_parameters(local_params):\n",
    "    return dict([(param['name'], LaunchConfiguration(param['name'])) for param in local_params])\n",
    "\n",
    "a = set_configurable_parameters(local_parameters)\n",
    "print(\"type:\", type(a))\n",
    "print(\"a: \", a)\n",
    "print(\"a.items: \",a.items())"
   ]
  },
  {
   "cell_type": "markdown",
   "metadata": {},
   "source": []
  }
 ],
 "metadata": {
  "kernelspec": {
   "display_name": "Python 3",
   "language": "python",
   "name": "python3"
  },
  "language_info": {
   "codemirror_mode": {
    "name": "ipython",
    "version": 3
   },
   "file_extension": ".py",
   "mimetype": "text/x-python",
   "name": "python",
   "nbconvert_exporter": "python",
   "pygments_lexer": "ipython3",
   "version": "3.10.12"
  },
  "orig_nbformat": 4
 },
 "nbformat": 4,
 "nbformat_minor": 2
}
